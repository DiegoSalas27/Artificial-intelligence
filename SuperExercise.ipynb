{
 "cells": [
  {
   "cell_type": "code",
   "execution_count": 27,
   "metadata": {},
   "outputs": [
    {
     "name": "stdout",
     "output_type": "stream",
     "text": [
      "9\n"
     ]
    }
   ],
   "source": [
    "def bconditional(p, q):\n",
    "    return ((not p or q) and (not q or p))\n",
    "\n",
    "def conditional(p, q):\n",
    "    return (not p or q)\n",
    "\n",
    "def conjunction(p, q):\n",
    "    return (p and q)\n",
    "\n",
    "def disjunction(p, q):\n",
    "    return (p or q)\n",
    "\n",
    "def negation(p):\n",
    "    return not p\n",
    "\n",
    "if __name__ == '__main__':\n",
    "    data = []\n",
    "    p = [True, False]\n",
    "    q = [True, False]    \n",
    "    r = [True, False]    \n",
    "    \n",
    "    for pval in p:\n",
    "        for qval in q:\n",
    "            for rval in r:\n",
    "                list = []\n",
    "                list.append(pval)\n",
    "                list.append(qval)                \n",
    "                list.append(rval)       \n",
    "                data.append(list)\n",
    "    \n",
    "    for segment in data:\n",
    "        print(disjunction(negation(disjunction(negation(segment[0]), segment[1])), conjunction(segment[2], )) )"
   ]
  },
  {
   "cell_type": "code",
   "execution_count": null,
   "metadata": {},
   "outputs": [],
   "source": []
  }
 ],
 "metadata": {
  "kernelspec": {
   "display_name": "Python 3",
   "language": "python",
   "name": "python3"
  },
  "language_info": {
   "codemirror_mode": {
    "name": "ipython",
    "version": 3
   },
   "file_extension": ".py",
   "mimetype": "text/x-python",
   "name": "python",
   "nbconvert_exporter": "python",
   "pygments_lexer": "ipython3",
   "version": "3.6.5"
  }
 },
 "nbformat": 4,
 "nbformat_minor": 2
}
