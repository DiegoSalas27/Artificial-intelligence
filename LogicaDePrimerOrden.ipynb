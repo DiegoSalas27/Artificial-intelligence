{
 "cells": [
  {
   "cell_type": "code",
   "execution_count": 38,
   "metadata": {},
   "outputs": [
    {
     "name": "stdout",
     "output_type": "stream",
     "text": [
      "Madres de hijos:  (('marcelo', 'nelith'), ('david', 'rosalia'), ('rene', 'rosalia'), ('hernan', 'rosalia'), ('angie', 'flor'))\n",
      "Abuelos:  (('sabino', 'marcelo'), ('sabino', 'angie'))\n",
      "Todos los descendintes:  ('marcelo', 'david', 'rene', 'hernan', 'angie')\n",
      "Primera generación:  ('rene', 'david', 'hernan')\n",
      "Segunda generación:  ('marcelo', 'angie')\n",
      "Primos:  ('angie', 'marcelo')\n",
      "Cuñadas:  (('flor', 'david'), ('nelith', 'rene'))\n"
     ]
    }
   ],
   "source": [
    "#Logica de primer orden\n",
    "\n",
    "from kanren import run, var\n",
    "from kanren import Relation, facts\n",
    "\n",
    "M = var()\n",
    "P = var()\n",
    "H = var()\n",
    "A = var()\n",
    "Pr = var() \n",
    "Des = var()\n",
    "Cun = var()\n",
    "H2 = var()\n",
    "\n",
    "Esposo = Relation()\n",
    "Hijo = Relation()\n",
    "\n",
    "#conocimientos\n",
    "facts(Esposo, (\"sabino\", \"rosalia\"),(\"david\", \"flor\"),(\"rene\", \"nelith\")) \n",
    "facts(Hijo, (\"david\", \"sabino\"),(\"rene\", \"sabino\"),(\"hernan\", \"sabino\"),(\"angie\",\"david\"),(\"marcelo\",\"rene\"))\n",
    "\n",
    "print(\"Madres de hijos: \", run(0,(H, M), Hijo(H, P), Esposo(P, M))) #madres de hijos\n",
    "print(\"Abuelos: \", run(0,(A, H), Hijo(H, P), Hijo(P, A))) #abuelos\n",
    "\n",
    "## Si los hijos tienen su padre entonces los hijos son descendientes\n",
    "print(\"Todos los descendintes: \", run(0,(H), Hijo(H, P))) #Descendientes\n",
    "Padre = \"sabino\"\n",
    "D = (run(0, Des, Hijo(H, Padre), Hijo(Des, H)))\n",
    "E = (run(0, H, Hijo(H, Padre)))\n",
    "print(\"Primera generación: \", E)\n",
    "print(\"Segunda generación: \", D)\n",
    "hijo = \"david\"\n",
    "print(\"Primos: \", run(0,(Pr), Hijo(H, P), Hijo(hijo, P), Hijo(Pr, H))) #Primos\n",
    "print(\"Espoos y esposas: \", run(0,(Cun, H), Hijo(H, P), Hijo(hijo, P), Esposo(H, Cun))) #Esposos y esposas\n",
    "\n",
    "\n",
    "      \n",
    "\n",
    "\n",
    "\n"
   ]
  },
  {
   "cell_type": "code",
   "execution_count": null,
   "metadata": {},
   "outputs": [],
   "source": []
  }
 ],
 "metadata": {
  "kernelspec": {
   "display_name": "Python 3",
   "language": "python",
   "name": "python3"
  },
  "language_info": {
   "codemirror_mode": {
    "name": "ipython",
    "version": 3
   },
   "file_extension": ".py",
   "mimetype": "text/x-python",
   "name": "python",
   "nbconvert_exporter": "python",
   "pygments_lexer": "ipython3",
   "version": "3.7.1"
  }
 },
 "nbformat": 4,
 "nbformat_minor": 2
}
