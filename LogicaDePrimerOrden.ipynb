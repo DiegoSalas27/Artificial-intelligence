{
 "cells": [
  {
   "cell_type": "code",
   "execution_count": 5,
   "metadata": {},
   "outputs": [
    {
     "name": "stdout",
     "output_type": "stream",
     "text": [
      "(('marcelo', 'nelith'), ('david', 'rosalia'), ('rene', 'rosalia'), ('hernan', 'rosalia'), ('angie', 'flor'))\n"
     ]
    }
   ],
   "source": [
    "#Logica de primer orden\n",
    "\n",
    "from kanren import run, var\n",
    "from kanren import Relation, facts\n",
    "\n",
    "M = var()\n",
    "P = var()\n",
    "H = var()\n",
    "\n",
    "Esposo = Relation()\n",
    "Hijo = Relation()\n",
    "\n",
    "#conocimientos\n",
    "facts(Esposo, (\"sabino\", \"rosalia\"),(\"david\", \"flor\"),(\"rene\", \"nelith\")) \n",
    "facts(Hijo, (\"david\", \"sabino\"),(\"rene\", \"sabino\"),(\"hernan\", \"sabino\"),(\"angie\",\"david\"),(\"marcelo\",\"rene\"))\n",
    "print(run(0,(H, M), Hijo(H, P), Esposo(P, M)))\n"
   ]
  },
  {
   "cell_type": "code",
   "execution_count": null,
   "metadata": {},
   "outputs": [],
   "source": []
  }
 ],
 "metadata": {
  "kernelspec": {
   "display_name": "Python 3",
   "language": "python",
   "name": "python3"
  },
  "language_info": {
   "codemirror_mode": {
    "name": "ipython",
    "version": 3
   },
   "file_extension": ".py",
   "mimetype": "text/x-python",
   "name": "python",
   "nbconvert_exporter": "python",
   "pygments_lexer": "ipython3",
   "version": "3.7.1"
  }
 },
 "nbformat": 4,
 "nbformat_minor": 2
}
